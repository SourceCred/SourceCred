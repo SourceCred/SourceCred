{
 "cells": [
  {
   "cell_type": "markdown",
   "metadata": {},
   "source": [
    "# Exploring the commit graph\n",
    "\n",
    "(2018-02-08)\n",
    "\n",
    "This script crawls a repository's commit graph by inspecting files\n",
    "currently in the repository and looking at all commits that have changed\n",
    "that file (tracking over renames). The data is lightly processed and is\n",
    "serialized to JSON to be displayed by a frontend."
   ]
  },
  {
   "cell_type": "code",
   "execution_count": 1,
   "metadata": {},
   "outputs": [],
   "source": [
    "import collections\n",
    "import datetime\n",
    "import json\n",
    "import math\n",
    "import os\n",
    "import subprocess\n",
    "import tempfile\n",
    "\n",
    "import git\n",
    "\n",
    "import matplotlib.pyplot as plt"
   ]
  },
  {
   "cell_type": "code",
   "execution_count": 2,
   "metadata": {},
   "outputs": [],
   "source": [
    "class RepoContext:\n",
    "\n",
    "  def __init__(self, repo_root):\n",
    "    self._repo_root = repo_root\n",
    "    \n",
    "  def _tempfile_name(self):\n",
    "    \"\"\"Get a persistent tempfile name keyed against this repo.\"\"\"\n",
    "    # Encode the path to the repo in a format that can be used in paths.\n",
    "    sanitized_repo_name = self._repo_root.replace(os.sep, '%')\n",
    "    filename = 'file_to_hashes_%s.json' % sanitized_repo_name\n",
    "    return os.path.join(tempfile.gettempdir(), filename)\n",
    "\n",
    "  def _git_cmd(self, args):\n",
    "    \"\"\"Run git(1) with the specified arguments; return its stdout.\"\"\"\n",
    "    return subprocess.check_output(['git', '-C', self._repo_root] + args)\n",
    "\n",
    "  def hashes_for_file(self, current_filename):\n",
    "    assert current_filename, current_filename\n",
    "    # Obviously really inefficient to spawn a suprocess for each file\n",
    "    # in the repo, but the `git` module doesn't seem to have an easy way\n",
    "    # to `--follow`... if productionized, this could just use libgit2\n",
    "    # bindings for performance.\n",
    "    hashes = (\n",
    "        self._git_cmd(['log', '--pretty=%H', '--follow', current_filename])\n",
    "    ).splitlines()\n",
    "    return [h.decode('ascii') for h in hashes]\n",
    "\n",
    "  def all_files(self):\n",
    "    \"\"\"Get a list of all paths to files in the git repo.\n",
    "    \n",
    "    Assumes that filenames are UTF-8--encoded, which seems reasonable.\n",
    "    Alternately, could return a list of `bytes` objects.\n",
    "    \"\"\"\n",
    "    file_bytestring_names = self._git_cmd([\n",
    "        'ls-tree', '-r', '--full-tree', '--name-only', '-z', 'HEAD'\n",
    "    ]).split(b'\\0')[:-1]  # strip trailing '\\0'\n",
    "    return [fn.decode('utf-8') for fn in file_bytestring_names]\n",
    "\n",
    "  def load_commit_data(self):\n",
    "    \"\"\"Load data about the relationships between commits and files.\n",
    "\n",
    "    A commit is _file-reachable_ if it touches a file that currently\n",
    "    exists in the repository, even if that file might have been renamed\n",
    "    (but not if it has been deleted).\n",
    "\n",
    "    Returns a dictionary `r` such that\n",
    "      - `r['file_to_commits']` is a dictionary `d` such that if `f` is a\n",
    "        path to a file currently tracked in the repository, then `d[f]`\n",
    "        is the list of commit SHAs for all commits that have touched `f`\n",
    "        (tracking across renames of `f`);\n",
    "      - `r['files']` is a list of all files currently in the repository\n",
    "        (and is the keyset of `r['file_to_commits']`;\n",
    "      - `r['hashes']` is a list of hashes of all file-reachable commits\n",
    "        (and is the union of the values of `r['file_to_commits']`;\n",
    "      - `r['commits']` is a dictionary `d` such that if `h` is the hash\n",
    "        of a file-reachable commit, then `d[h]` is a gitpython `Commit`\n",
    "        descriptor for the commit with hash `h`; and\n",
    "      - `r['repo']` is a gitpython `Repo` object for the repository.\n",
    "    \"\"\"\n",
    "    print('Starting: %s' % self._repo_root)\n",
    "    all_files = self.all_files()\n",
    "    print('Got %s files' % len(all_files))\n",
    "\n",
    "    repo = git.Repo(self._repo_root)\n",
    "    head = repo.commit().hexsha\n",
    "\n",
    "    # `files[x] = cs` where `cs` is the list of hashes that touched the\n",
    "    # file now known as `x`\n",
    "    try:\n",
    "      print('Loading file database')\n",
    "      with open(self._tempfile_name()) as infile:\n",
    "        result = json.load(infile)\n",
    "        assert result['base'] == self._repo_root, (\n",
    "            'Cache for wrong repo: expected %r, got %r' %\n",
    "            (self._repo_root, result['base']))\n",
    "        assert result['head'] == head, (\n",
    "            'Cache for wrong HEAD commit: expected %r, got %r'\n",
    "            % (head, result['head']))\n",
    "        files = result['files']\n",
    "      print('Loaded file database')\n",
    "    except (OSError, json.decoder.JSONDecodeError):\n",
    "      # Build the cache\n",
    "      print('Compiling file database')\n",
    "      files = {fn: self.hashes_for_file(fn) for fn in all_files}\n",
    "      print('Compiled file database')\n",
    "      cache = {\n",
    "          'base': self._repo_root,\n",
    "          'head': head,\n",
    "          'files': files,\n",
    "      }\n",
    "      print('Created cache for file database')\n",
    "      with open(self._tempfile_name(), 'w') as outfile:\n",
    "        json.dump(cache, outfile)\n",
    "        print('Dumped cache for file database')\n",
    "\n",
    "    all_hashes = frozenset().union(*files.values())\n",
    "    print('Got %s hashes' % len(all_hashes))\n",
    "\n",
    "    # `commits[h] == c` s.t. `c.hash == h`\n",
    "    commits = {h: repo.commit(h) for h in all_hashes}\n",
    "    print('Got %s commits' % len(commits))\n",
    "    \n",
    "    return {\n",
    "        'file_to_commits': files,\n",
    "        'hashes': all_hashes,\n",
    "        'files': all_files,\n",
    "        'commits': commits,\n",
    "        'repo': repo,\n",
    "    }"
   ]
  },
  {
   "cell_type": "code",
   "execution_count": 3,
   "metadata": {},
   "outputs": [
    {
     "name": "stdout",
     "output_type": "stream",
     "text": [
      "Starting: /home/wchargin/git/tensorboard\n",
      "Got 636 files\n",
      "Loading file database\n",
      "Loaded file database\n",
      "Got 1223 hashes\n",
      "Got 1223 commits\n"
     ]
    }
   ],
   "source": [
    "data = RepoContext('/home/wchargin/git/tensorboard').load_commit_data()"
   ]
  },
  {
   "cell_type": "code",
   "execution_count": 4,
   "metadata": {},
   "outputs": [],
   "source": [
    "# Which commits are important?\n",
    "def _commit_weight(commit):\n",
    "    return math.log1p(commit.stats.total['lines'])\n",
    "\n",
    "commit_weights = {\n",
    "    h: _commit_weight(data['commits'][h]) for h in data['commits']\n",
    "}\n",
    "weight_values = sorted(commit_weights.values())"
   ]
  },
  {
   "cell_type": "code",
   "execution_count": 5,
   "metadata": {},
   "outputs": [
    {
     "data": {
      "text/plain": [
       "(array([  1.,  30.,   0., 112.,  55.,  79.,  73.,  76.,  78.,  68.,  63.,\n",
       "         77.,  55.,  58., 107.,  68.,  70.,  50.,  38.,  15.,   9.,   6.,\n",
       "         13.,   5.,   8.,   1.,   2.,   1.,   2.,   3.]),\n",
       " array([ 0.        ,  0.35119409,  0.70238817,  1.05358226,  1.40477635,\n",
       "         1.75597043,  2.10716452,  2.45835861,  2.80955269,  3.16074678,\n",
       "         3.51194086,  3.86313495,  4.21432904,  4.56552312,  4.91671721,\n",
       "         5.2679113 ,  5.61910538,  5.97029947,  6.32149356,  6.67268764,\n",
       "         7.02388173,  7.37507582,  7.7262699 ,  8.07746399,  8.42865807,\n",
       "         8.77985216,  9.13104625,  9.48224033,  9.83343442, 10.18462851,\n",
       "        10.53582259]),\n",
       " <a list of 30 Patch objects>)"
      ]
     },
     "execution_count": 5,
     "metadata": {},
     "output_type": "execute_result"
    },
    {
     "data": {
      "image/png": "[encoded data removed]",
      "text/plain": [
       "<matplotlib.figure.Figure at 0x7f2089a264a8>"
      ]
     },
     "metadata": {},
     "output_type": "display_data"
    }
   ],
   "source": [
    "# Sanity check...\n",
    "plt.hist(commit_weights.values(), bins=30)"
   ]
  },
  {
   "cell_type": "code",
   "execution_count": 6,
   "metadata": {},
   "outputs": [],
   "source": [
    "# Which users are important?\n",
    "user_weights = collections.defaultdict(lambda: 0.0)\n",
    "email_resolutions = {\n",
    "    'danmane@gmail.com': 'dandelion@google.com',\n",
    "}\n",
    "for h in data['commits']:\n",
    "    nominal_email = data['commits'][h].author.email\n",
    "    email = email_resolutions.get(nominal_email, nominal_email)\n",
    "    user_weights[email] += commit_weights[h]"
   ]
  },
  {
   "cell_type": "code",
   "execution_count": 7,
   "metadata": {},
   "outputs": [
    {
     "data": {
      "text/plain": [
       "(array([95.,  4.,  1.,  1.,  1.,  1.,  2.,  1.,  1.,  2.]),\n",
       " array([  0.69314718,  57.62184883, 114.55055049, 171.47925214,\n",
       "        228.4079538 , 285.33665545, 342.2653571 , 399.19405876,\n",
       "        456.12276041, 513.05146206, 569.98016372]),\n",
       " <a list of 10 Patch objects>)"
      ]
     },
     "execution_count": 7,
     "metadata": {},
     "output_type": "execute_result"
    },
    {
     "data": {
      "image/png": "[encoded data removed]",
      "text/plain": [
       "<matplotlib.figure.Figure at 0x7f2087770240>"
      ]
     },
     "metadata": {},
     "output_type": "display_data"
    }
   ],
   "source": [
    "# Sanity check...\n",
    "plt.hist(user_weights.values())"
   ]
  },
  {
   "cell_type": "code",
   "execution_count": 8,
   "metadata": {
    "scrolled": true
   },
   "outputs": [
    {
     "data": {
      "text/plain": [
       "[('dandelion@google.com', 569.980163717216),\n",
       " ('jart@google.com', 524.5859947976339),\n",
       " ('gardener@tensorflow.org', 472.63110233817844),\n",
       " ('smilkov@google.com', 434.80813797887964),\n",
       " ('wchargin@gmail.com', 393.3191133762563),\n",
       " ('zeng.chi@gmail.com', 359.13737400821606),\n",
       " ('nicholsonc@google.com', 335.99155668200115),\n",
       " ('nsthorat@google.com', 233.81765373473374),\n",
       " ('nobody@tensorflow.org', 202.53648716913855),\n",
       " ('dsmilkov@gmail.com', 131.64270699045096)]"
      ]
     },
     "execution_count": 8,
     "metadata": {},
     "output_type": "execute_result"
    }
   ],
   "source": [
    "# Accuracy check, given that the operator is familiar with the repo...\n",
    "[(k, user_weights[k]) for k in sorted(user_weights, key=user_weights.get, reverse=True)][:10]"
   ]
  },
  {
   "cell_type": "code",
   "execution_count": 9,
   "metadata": {},
   "outputs": [],
   "source": [
    "# Build a JSON object to send to the frontend.\n",
    "results = {\n",
    "    \"file_to_commits\": data['file_to_commits'],\n",
    "    \"commits\": {\n",
    "        c.hexsha: {\n",
    "            \"author\": c.author.email,\n",
    "            \"stats\": c.stats.files,\n",
    "        }\n",
    "        for c in data['commits'].values()\n",
    "    },\n",
    "    \"authors\": sorted(frozenset(c.author.email for c in data['commits'].values())),\n",
    "}"
   ]
  },
  {
   "cell_type": "code",
   "execution_count": 10,
   "metadata": {},
   "outputs": [],
   "source": [
    "with open('/tmp/data.json', 'w') as outfile:\n",
    "    json.dump(results, outfile)"
   ]
  }
 ],
 "metadata": {
  "kernelspec": {
   "display_name": "Python 3",
   "language": "python",
   "name": "python3"
  },
  "language_info": {
   "codemirror_mode": {
    "name": "ipython",
    "version": 3
   },
   "file_extension": ".py",
   "mimetype": "text/x-python",
   "name": "python",
   "nbconvert_exporter": "python",
   "pygments_lexer": "ipython3",
   "version": "3.5.2"
  }
 },
 "nbformat": 4,
 "nbformat_minor": 2
}
